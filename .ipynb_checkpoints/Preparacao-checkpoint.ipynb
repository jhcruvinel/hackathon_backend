{
 "cells": [
  {
   "cell_type": "markdown",
   "metadata": {},
   "source": [
    "# Conulta Postgres"
   ]
  },
  {
   "cell_type": "markdown",
   "metadata": {},
   "source": [
    "Vamos utilizar um dataset de revisão de filmes disponível em http://www.cs.cornell.edu/people/pabo/movie-review-data/\n",
    "\n",
    "Para esta prática baixamos o dataset http://www.cs.cornell.edu/people/pabo/movie-review-data/mix20_rand700_tokens_cleaned.zip\n",
    "\n",
    "Baixe e descompacte este arquivo zip"
   ]
  },
  {
   "cell_type": "code",
   "execution_count": 1,
   "metadata": {},
   "outputs": [],
   "source": [
    "#!pip install pandas\n",
    "#!pip install nltk\n",
    "#!pip install psycopg2\n",
    "#!pip install sqlalchemy"
   ]
  },
  {
   "cell_type": "code",
   "execution_count": 2,
   "metadata": {},
   "outputs": [],
   "source": [
    "# imports iniciais\n",
    "import os\n",
    "import nltk\n",
    "import pandas as pd\n",
    "import pandas.io.sql as psql\n",
    "import psycopg2\n",
    "import pandas as pd\n",
    "from sqlalchemy import create_engine"
   ]
  },
  {
   "cell_type": "code",
   "execution_count": 3,
   "metadata": {},
   "outputs": [],
   "source": [
    "#nltk.download()"
   ]
  },
  {
   "cell_type": "code",
   "execution_count": 4,
   "metadata": {},
   "outputs": [],
   "source": [
    "conn = psycopg2.connect(database=\"pje_1grau_treinamento\", user=\"hackathon\", password=\"hackathon\", host=\"hackathon-pje.trt12.jus.br\", port=\"5431\")\n",
    "cur = conn.cursor()\n",
    "df = psql.read_sql(\"SELECT * FROM pje.tb_assunto_trf ORDER BY id_assunto_trf\", conn)"
   ]
  },
  {
   "cell_type": "raw",
   "metadata": {},
   "source": [
    "print(df.groupby('ds_assunto_trf').count())\n"
   ]
  },
  {
   "cell_type": "code",
   "execution_count": 15,
   "metadata": {},
   "outputs": [
    {
     "data": {
      "text/html": [
       "<div>\n",
       "<style scoped>\n",
       "    .dataframe tbody tr th:only-of-type {\n",
       "        vertical-align: middle;\n",
       "    }\n",
       "\n",
       "    .dataframe tbody tr th {\n",
       "        vertical-align: top;\n",
       "    }\n",
       "\n",
       "    .dataframe thead th {\n",
       "        text-align: right;\n",
       "    }\n",
       "</style>\n",
       "<table border=\"1\" class=\"dataframe\">\n",
       "  <thead>\n",
       "    <tr style=\"text-align: right;\">\n",
       "      <th></th>\n",
       "      <th>id_assunto_trf</th>\n",
       "      <th>id_assunto_trf_superior</th>\n",
       "      <th>vl_peso</th>\n",
       "    </tr>\n",
       "  </thead>\n",
       "  <tbody>\n",
       "    <tr>\n",
       "      <td>count</td>\n",
       "      <td>3749.000000</td>\n",
       "      <td>3731.000000</td>\n",
       "      <td>3749.0</td>\n",
       "    </tr>\n",
       "    <tr>\n",
       "      <td>mean</td>\n",
       "      <td>1875.615631</td>\n",
       "      <td>1586.412222</td>\n",
       "      <td>1.0</td>\n",
       "    </tr>\n",
       "    <tr>\n",
       "      <td>std</td>\n",
       "      <td>1082.797348</td>\n",
       "      <td>980.334262</td>\n",
       "      <td>0.0</td>\n",
       "    </tr>\n",
       "    <tr>\n",
       "      <td>min</td>\n",
       "      <td>1.000000</td>\n",
       "      <td>1.000000</td>\n",
       "      <td>1.0</td>\n",
       "    </tr>\n",
       "    <tr>\n",
       "      <td>25%</td>\n",
       "      <td>938.000000</td>\n",
       "      <td>818.000000</td>\n",
       "      <td>1.0</td>\n",
       "    </tr>\n",
       "    <tr>\n",
       "      <td>50%</td>\n",
       "      <td>1876.000000</td>\n",
       "      <td>1456.000000</td>\n",
       "      <td>1.0</td>\n",
       "    </tr>\n",
       "    <tr>\n",
       "      <td>75%</td>\n",
       "      <td>2813.000000</td>\n",
       "      <td>2408.000000</td>\n",
       "      <td>1.0</td>\n",
       "    </tr>\n",
       "    <tr>\n",
       "      <td>max</td>\n",
       "      <td>3750.000000</td>\n",
       "      <td>3746.000000</td>\n",
       "      <td>1.0</td>\n",
       "    </tr>\n",
       "  </tbody>\n",
       "</table>\n",
       "</div>"
      ],
      "text/plain": [
       "       id_assunto_trf  id_assunto_trf_superior  vl_peso\n",
       "count     3749.000000              3731.000000   3749.0\n",
       "mean      1875.615631              1586.412222      1.0\n",
       "std       1082.797348               980.334262      0.0\n",
       "min          1.000000                 1.000000      1.0\n",
       "25%        938.000000               818.000000      1.0\n",
       "50%       1876.000000              1456.000000      1.0\n",
       "75%       2813.000000              2408.000000      1.0\n",
       "max       3750.000000              3746.000000      1.0"
      ]
     },
     "execution_count": 15,
     "metadata": {},
     "output_type": "execute_result"
    }
   ],
   "source": [
    "df.describe()"
   ]
  },
  {
   "cell_type": "code",
   "execution_count": 9,
   "metadata": {},
   "outputs": [
    {
     "data": {
      "text/plain": [
       "id_assunto_trf              3749\n",
       "id_assunto_trf_superior     3731\n",
       "cd_assunto_trf              3749\n",
       "ds_assunto_trf              3749\n",
       "in_ativo                    3749\n",
       "cd_assunto_trf_outro           0\n",
       "in_ignora_compensacao       3749\n",
       "in_ignora_prevencao         3749\n",
       "in_mantem_processo          3749\n",
       "ds_norma                    3342\n",
       "ds_lei_artigo               3086\n",
       "ds_assunto_trf_glossario    3098\n",
       "in_segredo_justica          3749\n",
       "in_complementar             3749\n",
       "ds_lei                       353\n",
       "in_possui_filhos            3749\n",
       "ds_assunto_completo         3749\n",
       "in_pss                      3749\n",
       "in_exige_nm                 3749\n",
       "vl_peso                     3749\n",
       "in_crime_antecedente        3749\n",
       "ds_assunto_consulta         3749\n",
       "dtype: int64"
      ]
     },
     "execution_count": 9,
     "metadata": {},
     "output_type": "execute_result"
    }
   ],
   "source": [
    "df.count()"
   ]
  },
  {
   "cell_type": "code",
   "execution_count": 6,
   "metadata": {},
   "outputs": [
    {
     "data": {
      "text/html": [
       "<div>\n",
       "<style scoped>\n",
       "    .dataframe tbody tr th:only-of-type {\n",
       "        vertical-align: middle;\n",
       "    }\n",
       "\n",
       "    .dataframe tbody tr th {\n",
       "        vertical-align: top;\n",
       "    }\n",
       "\n",
       "    .dataframe thead th {\n",
       "        text-align: right;\n",
       "    }\n",
       "</style>\n",
       "<table border=\"1\" class=\"dataframe\">\n",
       "  <thead>\n",
       "    <tr style=\"text-align: right;\">\n",
       "      <th></th>\n",
       "      <th>id_assunto_trf</th>\n",
       "      <th>id_assunto_trf_superior</th>\n",
       "      <th>cd_assunto_trf</th>\n",
       "      <th>ds_assunto_trf</th>\n",
       "      <th>in_ativo</th>\n",
       "      <th>cd_assunto_trf_outro</th>\n",
       "      <th>in_ignora_compensacao</th>\n",
       "      <th>in_ignora_prevencao</th>\n",
       "      <th>in_mantem_processo</th>\n",
       "      <th>ds_norma</th>\n",
       "      <th>...</th>\n",
       "      <th>in_segredo_justica</th>\n",
       "      <th>in_complementar</th>\n",
       "      <th>ds_lei</th>\n",
       "      <th>in_possui_filhos</th>\n",
       "      <th>ds_assunto_completo</th>\n",
       "      <th>in_pss</th>\n",
       "      <th>in_exige_nm</th>\n",
       "      <th>vl_peso</th>\n",
       "      <th>in_crime_antecedente</th>\n",
       "      <th>ds_assunto_consulta</th>\n",
       "    </tr>\n",
       "  </thead>\n",
       "  <tbody>\n",
       "    <tr>\n",
       "      <td>0</td>\n",
       "      <td>1</td>\n",
       "      <td>NaN</td>\n",
       "      <td>9985</td>\n",
       "      <td>DIREITO ADMINISTRATIVO E OUTRAS MATÉRIAS DE DI...</td>\n",
       "      <td>S</td>\n",
       "      <td>None</td>\n",
       "      <td>S</td>\n",
       "      <td>S</td>\n",
       "      <td>S</td>\n",
       "      <td>None</td>\n",
       "      <td>...</td>\n",
       "      <td>N</td>\n",
       "      <td>N</td>\n",
       "      <td>None</td>\n",
       "      <td>S</td>\n",
       "      <td>DIREITO ADMINISTRATIVO E OUTRAS MATÉRIAS DE DI...</td>\n",
       "      <td>N</td>\n",
       "      <td>N</td>\n",
       "      <td>1.0</td>\n",
       "      <td>N</td>\n",
       "      <td>DIREITO ADMINISTRATIVO E OUTRAS MATERIAS DE DI...</td>\n",
       "    </tr>\n",
       "    <tr>\n",
       "      <td>1</td>\n",
       "      <td>2</td>\n",
       "      <td>1.0</td>\n",
       "      <td>10186</td>\n",
       "      <td>Agentes Políticos</td>\n",
       "      <td>S</td>\n",
       "      <td>None</td>\n",
       "      <td>S</td>\n",
       "      <td>S</td>\n",
       "      <td>S</td>\n",
       "      <td>None</td>\n",
       "      <td>...</td>\n",
       "      <td>N</td>\n",
       "      <td>N</td>\n",
       "      <td>None</td>\n",
       "      <td>S</td>\n",
       "      <td>DIREITO ADMINISTRATIVO E OUTRAS MATÉRIAS DE DI...</td>\n",
       "      <td>N</td>\n",
       "      <td>N</td>\n",
       "      <td>1.0</td>\n",
       "      <td>N</td>\n",
       "      <td>AGENTES POLITICOS</td>\n",
       "    </tr>\n",
       "    <tr>\n",
       "      <td>2</td>\n",
       "      <td>3</td>\n",
       "      <td>2.0</td>\n",
       "      <td>10187</td>\n",
       "      <td>Magistratura</td>\n",
       "      <td>S</td>\n",
       "      <td>None</td>\n",
       "      <td>S</td>\n",
       "      <td>S</td>\n",
       "      <td>S</td>\n",
       "      <td>None</td>\n",
       "      <td>...</td>\n",
       "      <td>N</td>\n",
       "      <td>N</td>\n",
       "      <td>None</td>\n",
       "      <td>S</td>\n",
       "      <td>DIREITO ADMINISTRATIVO E OUTRAS MATÉRIAS DE DI...</td>\n",
       "      <td>N</td>\n",
       "      <td>N</td>\n",
       "      <td>1.0</td>\n",
       "      <td>N</td>\n",
       "      <td>MAGISTRATURA</td>\n",
       "    </tr>\n",
       "    <tr>\n",
       "      <td>3</td>\n",
       "      <td>4</td>\n",
       "      <td>3.0</td>\n",
       "      <td>10189</td>\n",
       "      <td>Afastamento</td>\n",
       "      <td>S</td>\n",
       "      <td>None</td>\n",
       "      <td>S</td>\n",
       "      <td>S</td>\n",
       "      <td>S</td>\n",
       "      <td>LC nº 35/79</td>\n",
       "      <td>...</td>\n",
       "      <td>N</td>\n",
       "      <td>N</td>\n",
       "      <td>None</td>\n",
       "      <td>N</td>\n",
       "      <td>DIREITO ADMINISTRATIVO E OUTRAS MATÉRIAS DE DI...</td>\n",
       "      <td>N</td>\n",
       "      <td>N</td>\n",
       "      <td>1.0</td>\n",
       "      <td>N</td>\n",
       "      <td>AFASTAMENTO</td>\n",
       "    </tr>\n",
       "    <tr>\n",
       "      <td>4</td>\n",
       "      <td>5</td>\n",
       "      <td>3.0</td>\n",
       "      <td>10191</td>\n",
       "      <td>Aposentadoria</td>\n",
       "      <td>S</td>\n",
       "      <td>None</td>\n",
       "      <td>S</td>\n",
       "      <td>S</td>\n",
       "      <td>S</td>\n",
       "      <td>LC nº 35/79</td>\n",
       "      <td>...</td>\n",
       "      <td>N</td>\n",
       "      <td>N</td>\n",
       "      <td>None</td>\n",
       "      <td>N</td>\n",
       "      <td>DIREITO ADMINISTRATIVO E OUTRAS MATÉRIAS DE DI...</td>\n",
       "      <td>N</td>\n",
       "      <td>N</td>\n",
       "      <td>1.0</td>\n",
       "      <td>N</td>\n",
       "      <td>APOSENTADORIA</td>\n",
       "    </tr>\n",
       "  </tbody>\n",
       "</table>\n",
       "<p>5 rows × 22 columns</p>\n",
       "</div>"
      ],
      "text/plain": [
       "   id_assunto_trf  id_assunto_trf_superior cd_assunto_trf  \\\n",
       "0               1                      NaN           9985   \n",
       "1               2                      1.0          10186   \n",
       "2               3                      2.0          10187   \n",
       "3               4                      3.0          10189   \n",
       "4               5                      3.0          10191   \n",
       "\n",
       "                                      ds_assunto_trf in_ativo  \\\n",
       "0  DIREITO ADMINISTRATIVO E OUTRAS MATÉRIAS DE DI...        S   \n",
       "1                                  Agentes Políticos        S   \n",
       "2                                       Magistratura        S   \n",
       "3                                        Afastamento        S   \n",
       "4                                      Aposentadoria        S   \n",
       "\n",
       "  cd_assunto_trf_outro in_ignora_compensacao in_ignora_prevencao  \\\n",
       "0                 None                     S                   S   \n",
       "1                 None                     S                   S   \n",
       "2                 None                     S                   S   \n",
       "3                 None                     S                   S   \n",
       "4                 None                     S                   S   \n",
       "\n",
       "  in_mantem_processo     ds_norma  ... in_segredo_justica in_complementar  \\\n",
       "0                  S         None  ...                  N               N   \n",
       "1                  S         None  ...                  N               N   \n",
       "2                  S         None  ...                  N               N   \n",
       "3                  S  LC nº 35/79  ...                  N               N   \n",
       "4                  S  LC nº 35/79  ...                  N               N   \n",
       "\n",
       "  ds_lei in_possui_filhos                                ds_assunto_completo  \\\n",
       "0   None                S  DIREITO ADMINISTRATIVO E OUTRAS MATÉRIAS DE DI...   \n",
       "1   None                S  DIREITO ADMINISTRATIVO E OUTRAS MATÉRIAS DE DI...   \n",
       "2   None                S  DIREITO ADMINISTRATIVO E OUTRAS MATÉRIAS DE DI...   \n",
       "3   None                N  DIREITO ADMINISTRATIVO E OUTRAS MATÉRIAS DE DI...   \n",
       "4   None                N  DIREITO ADMINISTRATIVO E OUTRAS MATÉRIAS DE DI...   \n",
       "\n",
       "  in_pss in_exige_nm vl_peso in_crime_antecedente  \\\n",
       "0      N           N     1.0                    N   \n",
       "1      N           N     1.0                    N   \n",
       "2      N           N     1.0                    N   \n",
       "3      N           N     1.0                    N   \n",
       "4      N           N     1.0                    N   \n",
       "\n",
       "                                 ds_assunto_consulta  \n",
       "0  DIREITO ADMINISTRATIVO E OUTRAS MATERIAS DE DI...  \n",
       "1                                  AGENTES POLITICOS  \n",
       "2                                       MAGISTRATURA  \n",
       "3                                        AFASTAMENTO  \n",
       "4                                      APOSENTADORIA  \n",
       "\n",
       "[5 rows x 22 columns]"
      ]
     },
     "execution_count": 6,
     "metadata": {},
     "output_type": "execute_result"
    }
   ],
   "source": [
    "df.head()"
   ]
  },
  {
   "cell_type": "code",
   "execution_count": 14,
   "metadata": {},
   "outputs": [
    {
     "data": {
      "text/plain": [
       "Base de Cálculo                                          7\n",
       "Indenização por Dano Moral                               5\n",
       "Nulidade                                                 5\n",
       "Remuneração                                              5\n",
       "Recondução                                               5\n",
       "                                                        ..\n",
       "Praticagem                                               1\n",
       "Franquia                                                 1\n",
       "Quebra do Sigilo Bancário                                1\n",
       "Industrial / Mercantil                                   1\n",
       "Contratação de Reabilitados e Deficientes Habilitados    1\n",
       "Name: ds_assunto_trf, Length: 3218, dtype: int64"
      ]
     },
     "execution_count": 14,
     "metadata": {},
     "output_type": "execute_result"
    }
   ],
   "source": [
    "df.ds_assunto_trf.value_counts()"
   ]
  },
  {
   "cell_type": "code",
   "execution_count": 13,
   "metadata": {},
   "outputs": [
    {
     "data": {
      "text/plain": [
       "DIREITO ADMINISTRATIVO E OUTRAS MATÉRIAS DE DIREITO PÚBLICO / DÍVIDA PÚBLICA MOBILIÁRIA                                                                         1\n",
       "DIREITO DA CRIANÇA E DO ADOLESCENTE / Ato Infracional / Praticados por Funcionários Públicos Contra a Administração em Geral / Abandono de função (art. 323)    1\n",
       "DIREITO DA CRIANÇA E DO ADOLESCENTE / Ato Infracional / Contra a Administração da Justiça / Arrebatamento de preso                                              1\n",
       "DIREITO ELEITORAL / Eleições / Candidatos / Registro de Candidatura / Impugnação ao Registro de Candidatura                                                     1\n",
       "DIREITO PENAL / CRIMES CONTRA OS COSTUMES / Favorecimento da prostituição ou outra forma de exploração sexual de vulnerável                                     1\n",
       "                                                                                                                                                               ..\n",
       "REGISTROS PÚBLICOS                                                                                                                                              1\n",
       "DIREITO DO TRABALHO (864) / Direito Coletivo (1695) / Prazo de Vigência - Norma Coletiva                                                                        1\n",
       "DIREITO CIVIL / COISAS / PROPRIEDADE / CONDOMÍNIO EM EDIFÍCIO / Vaga de garagem                                                                                 1\n",
       "DIREITO PENAL MILITAR / Parte Geral / Suspensão Condicional da Pena                                                                                             1\n",
       "DIREITO PROCESSUAL PENAL / Ação Penal                                                                                                                           1\n",
       "Name: ds_assunto_completo, Length: 3749, dtype: int64"
      ]
     },
     "execution_count": 13,
     "metadata": {},
     "output_type": "execute_result"
    }
   ],
   "source": [
    "df.ds_assunto_completo.value_counts()"
   ]
  },
  {
   "cell_type": "code",
   "execution_count": 7,
   "metadata": {},
   "outputs": [
    {
     "data": {
      "text/html": [
       "<div>\n",
       "<style scoped>\n",
       "    .dataframe tbody tr th:only-of-type {\n",
       "        vertical-align: middle;\n",
       "    }\n",
       "\n",
       "    .dataframe tbody tr th {\n",
       "        vertical-align: top;\n",
       "    }\n",
       "\n",
       "    .dataframe thead th {\n",
       "        text-align: right;\n",
       "    }\n",
       "</style>\n",
       "<table border=\"1\" class=\"dataframe\">\n",
       "  <thead>\n",
       "    <tr style=\"text-align: right;\">\n",
       "      <th></th>\n",
       "      <th>id_assunto_trf</th>\n",
       "      <th>id_assunto_trf_superior</th>\n",
       "      <th>vl_peso</th>\n",
       "    </tr>\n",
       "  </thead>\n",
       "  <tbody>\n",
       "    <tr>\n",
       "      <td>count</td>\n",
       "      <td>3749.000000</td>\n",
       "      <td>3731.000000</td>\n",
       "      <td>3749.0</td>\n",
       "    </tr>\n",
       "    <tr>\n",
       "      <td>mean</td>\n",
       "      <td>1875.615631</td>\n",
       "      <td>1586.412222</td>\n",
       "      <td>1.0</td>\n",
       "    </tr>\n",
       "    <tr>\n",
       "      <td>std</td>\n",
       "      <td>1082.797348</td>\n",
       "      <td>980.334262</td>\n",
       "      <td>0.0</td>\n",
       "    </tr>\n",
       "    <tr>\n",
       "      <td>min</td>\n",
       "      <td>1.000000</td>\n",
       "      <td>1.000000</td>\n",
       "      <td>1.0</td>\n",
       "    </tr>\n",
       "    <tr>\n",
       "      <td>25%</td>\n",
       "      <td>938.000000</td>\n",
       "      <td>818.000000</td>\n",
       "      <td>1.0</td>\n",
       "    </tr>\n",
       "    <tr>\n",
       "      <td>50%</td>\n",
       "      <td>1876.000000</td>\n",
       "      <td>1456.000000</td>\n",
       "      <td>1.0</td>\n",
       "    </tr>\n",
       "    <tr>\n",
       "      <td>75%</td>\n",
       "      <td>2813.000000</td>\n",
       "      <td>2408.000000</td>\n",
       "      <td>1.0</td>\n",
       "    </tr>\n",
       "    <tr>\n",
       "      <td>max</td>\n",
       "      <td>3750.000000</td>\n",
       "      <td>3746.000000</td>\n",
       "      <td>1.0</td>\n",
       "    </tr>\n",
       "  </tbody>\n",
       "</table>\n",
       "</div>"
      ],
      "text/plain": [
       "       id_assunto_trf  id_assunto_trf_superior  vl_peso\n",
       "count     3749.000000              3731.000000   3749.0\n",
       "mean      1875.615631              1586.412222      1.0\n",
       "std       1082.797348               980.334262      0.0\n",
       "min          1.000000                 1.000000      1.0\n",
       "25%        938.000000               818.000000      1.0\n",
       "50%       1876.000000              1456.000000      1.0\n",
       "75%       2813.000000              2408.000000      1.0\n",
       "max       3750.000000              3746.000000      1.0"
      ]
     },
     "execution_count": 7,
     "metadata": {},
     "output_type": "execute_result"
    }
   ],
   "source": [
    "df.describe()"
   ]
  },
  {
   "cell_type": "markdown",
   "metadata": {},
   "source": [
    "## Tokenização\n",
    "\n",
    "Processo de dividir uma string em listas de pedaços ou \"tokens\". \n",
    "Um token é uma parte inteira. Por exemplo: uma palavra é um token em uma sentença. Uma sentença é um token em um parágrafo."
   ]
  },
  {
   "cell_type": "code",
   "execution_count": null,
   "metadata": {},
   "outputs": [],
   "source": [
    "# Tokenização de sentenças\n",
    "from nltk.tokenize import sent_tokenize, word_tokenize\n",
    "sent_tokens = sent_tokenize(text)\n",
    "for sentence in sent_tokens:\n",
    "    print (' - ',sentence)"
   ]
  },
  {
   "cell_type": "code",
   "execution_count": null,
   "metadata": {},
   "outputs": [],
   "source": [
    "# Tokenização de palavras\n",
    "word_tokens = word_tokenize(text)\n",
    "print(len(word_tokens),word_tokens)"
   ]
  },
  {
   "cell_type": "markdown",
   "metadata": {},
   "source": [
    "## Calculando a frequência\n",
    "\n",
    "Calcula quantas vezes uma palavra aparece em um texto ou corpus"
   ]
  },
  {
   "cell_type": "code",
   "execution_count": null,
   "metadata": {},
   "outputs": [],
   "source": [
    "# Vamos primeiro \n",
    "fdist = nltk.FreqDist(word_tokens)\n",
    "print('\\nContagem do número máximo de ocorrências do token \"',fdist.max(),'\" : ', fdist[fdist.max()])\n",
    "print('\\nNúmero total de tokens distintos : ', fdist.N())\n",
    "print('\\nA seguir estão os 10 tokens mais comuns')\n",
    "print(fdist.most_common(40))\n",
    "print(\"\\n\")"
   ]
  },
  {
   "cell_type": "markdown",
   "metadata": {},
   "source": [
    "## Stop Words\n",
    "\n",
    "Stopwords são palavras comuns que normalmente não contribuem para o significado de uma frase e que por isso podem ser ignoradas em processamento PLN. São palavras como \"The\" e \"a\" ((em inglês) ou \"O/A\" e \"Um/Uma\" ((em português). \n",
    "\n",
    "Muitos mecanismos de busca filtram estas palavras (stopwords), como forma de economizar espaço em seus índices de pesquisa."
   ]
  },
  {
   "cell_type": "code",
   "execution_count": null,
   "metadata": {},
   "outputs": [],
   "source": [
    "from nltk.corpus import stopwords\n",
    "# Stop words em inglês\n",
    "english_stops = set(stopwords.words('english'))\n",
    "print(english_stops)"
   ]
  },
  {
   "cell_type": "code",
   "execution_count": null,
   "metadata": {},
   "outputs": [],
   "source": [
    "#Stop words em português\n",
    "portuguese_stops = set(stopwords.words('portuguese'))\n",
    "print(portuguese_stops)"
   ]
  },
  {
   "cell_type": "code",
   "execution_count": null,
   "metadata": {},
   "outputs": [],
   "source": [
    "# List comprehension para aplicar as portuguese_stop words a lista de palavras\n",
    "word_tokens2 = [w for w in word_tokens if w not in english_stops]\n",
    "print(len(word_tokens2),word_tokens2)"
   ]
  },
  {
   "cell_type": "markdown",
   "metadata": {},
   "source": [
    "Veja que aqui temos menos palavras, pois as stopwords foram removidas "
   ]
  },
  {
   "cell_type": "code",
   "execution_count": null,
   "metadata": {},
   "outputs": [],
   "source": [
    "# Podemos também criar uma lista de caracteres palavras que devem ser ignoradas\n",
    "ignore = ['@', '.', '!','?',',','$','-','\\'s','g','(',')','[',']','``',':','http','html','//members']\n",
    "word_tokens3 = [w for w in word_tokens2 if w not in ignore]\n",
    "print(len(word_tokens3),word_tokens3)"
   ]
  },
  {
   "cell_type": "markdown",
   "metadata": {},
   "source": [
    "Veja que conseguimor limpar ainda mais as palavras a serem trabalhadas"
   ]
  },
  {
   "cell_type": "markdown",
   "metadata": {},
   "source": [
    "# Part-of-Speech Tagging\n",
    "\n",
    "O POS Tagging é o processo de rotulação de elementos textuais - tipicamente palavras e pontuação - com o fim de evidenciar \n",
    "a estrutura gramatical de um determinado trecho de texto. "
   ]
  },
  {
   "cell_type": "code",
   "execution_count": null,
   "metadata": {},
   "outputs": [],
   "source": [
    "from nltk.tag import pos_tag\n",
    "tags = pos_tag(word_tokens3)\n",
    "print(tags)"
   ]
  },
  {
   "cell_type": "code",
   "execution_count": null,
   "metadata": {},
   "outputs": [],
   "source": [
    "# Para saber o que é cada código, utilize o exemplo abaixo (no caso para VB)\n",
    "nltk.help.upenn_tagset('VB')"
   ]
  },
  {
   "cell_type": "markdown",
   "metadata": {},
   "source": [
    "# Stemming\n",
    "\n",
    "Stemming é a técnica de remover sufixos e prefixos de uma palavra, chamada stem. \n",
    "\n",
    "Por exemplo, o stem da palavra cooking é cook. Um bom algoritmo sabe que \"ing\" é um sufixo e pode ser removido. \n",
    "\n",
    "Stemming é muito usado em mecanismos de buscas para indexação de palavras. "
   ]
  },
  {
   "cell_type": "code",
   "execution_count": null,
   "metadata": {},
   "outputs": [],
   "source": [
    "from nltk.stem import PorterStemmer\n",
    "from nltk.stem import LancasterStemmer\n",
    "from nltk.stem import RegexpStemmer\n",
    "from nltk.stem import SnowballStemmer\n",
    "# Cria o Stemmer\n",
    "stemmer = SnowballStemmer('english')\n",
    "# Para português: SnowballStemmer('portuguese')\n",
    "for word in word_tokens3:\n",
    "    print(stemmer.stem(word))"
   ]
  },
  {
   "cell_type": "markdown",
   "metadata": {},
   "source": [
    "Veja que algumas palavras aparece apenas o stem"
   ]
  },
  {
   "cell_type": "markdown",
   "metadata": {},
   "source": [
    "# Lemmatization\n",
    "\n",
    "Lemmatização na linguística, é o processo de agrupar as diferentes formas flexionadas de uma palavra para que possam ser analisadas como um único item.\n",
    "Na linguística computacional, a Lemmatização é o processo algorítmico de determinação do lema para uma determinada palavra. \n",
    "\n",
    "A Lemmatização está intimamente relacionada com o Stemming. \n",
    "\n",
    "A diferença é que um stemmer opera em uma única palavra sem conhecimento do contexto e, portanto, não pode discriminar entre palavras que têm diferentes significados, dependendo da parte da fala. No entanto, os stemmers são geralmente mais fáceis de implementar e executar mais rapidamente, e a precisão reduzida pode não ser importante para algumas aplicações.\n",
    "\n",
    "O Stemmning pode gerar palavras geralmente inexistentes, enquanto as lemas são palavras reais."
   ]
  },
  {
   "cell_type": "code",
   "execution_count": null,
   "metadata": {},
   "outputs": [],
   "source": [
    "from nltk.stem import WordNetLemmatizer\n",
    "# Vamos aplicar às palavras\n",
    "wordnet_lemmatizer = WordNetLemmatizer()\n",
    "for word in word_tokens3:\n",
    "    print(wordnet_lemmatizer.lemmatize(word))"
   ]
  },
  {
   "cell_type": "markdown",
   "metadata": {},
   "source": [
    "Veja a diferença do Lemmatization para o Stemming"
   ]
  },
  {
   "cell_type": "markdown",
   "metadata": {},
   "source": [
    "# Exercício 1\n",
    "\n",
    "## Crie um código Python que faça o seguinte:\n",
    "    \n",
    " 1) Reuna em duas variáveis de texto (textoPos, textoNeg) todas as palavras de todos os documentos da categoria 'pos' e 'neg' respectivamente\n",
    "\n",
    " 2) Execute os itens abaixo para textoPos e textoNeg\n",
    " \n",
    " 2.1) Aplique o método de tokenização para separar as palavras\n",
    " \n",
    " 2.2) Remova as stopwords e demais palavras que você julgar necessário para a limpeza do texto\n",
    " \n",
    " 2.3) Aplique a lematização\n",
    " \n",
    " 2.4) Calcule e imprima a frequência das 1000 palavras mais frequentes após todo o processamento \n",
    " \n",
    "Salve o Jupyter Notebook com os resultados e entregue pelo iLang"
   ]
  }
 ],
 "metadata": {
  "kernelspec": {
   "display_name": "Python 3",
   "language": "python",
   "name": "python3"
  },
  "language_info": {
   "codemirror_mode": {
    "name": "ipython",
    "version": 3
   },
   "file_extension": ".py",
   "mimetype": "text/x-python",
   "name": "python",
   "nbconvert_exporter": "python",
   "pygments_lexer": "ipython3",
   "version": "3.6.9"
  }
 },
 "nbformat": 4,
 "nbformat_minor": 2
}
